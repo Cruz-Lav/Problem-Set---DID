{
 "cells": [
  {
   "cell_type": "markdown",
   "metadata": {},
   "source": [
    "# First part"
   ]
  },
  {
   "cell_type": "markdown",
   "metadata": {},
   "source": [
    "**1. What is the level of observation?**\n",
    "\n",
    "   The data is aggregated at the state level."
   ]
  },
  {
   "cell_type": "markdown",
   "metadata": {},
   "source": [
    "**2. Construct 1 dummy variable called “post_china” where post_china=1 for year>=2001 and 0 otherwise.**"
   ]
  },
  {
   "cell_type": "code",
   "execution_count": 31,
   "metadata": {},
   "outputs": [
    {
     "name": "stdout",
     "output_type": "stream",
     "text": [
      "   fipstate   naics   emp    qp1      ap   est  year\n",
      "0         1  113///  8207  44757  195720  1082  1998\n",
      "1         1  114///    93    363    1532    30  1998\n",
      "2         1  115///  1614  10181   45519   194  1998\n",
      "3         1  211///   804   9477   38146    38  1998\n",
      "4         1  212///  7074  79136  318295   159  1998\n"
     ]
    },
    {
     "name": "stderr",
     "output_type": "stream",
     "text": [
      "<>:2: SyntaxWarning: invalid escape sequence '\\d'\n",
      "<>:2: SyntaxWarning: invalid escape sequence '\\d'\n",
      "C:\\Users\\LENOVO\\AppData\\Local\\Temp\\ipykernel_19780\\3337931969.py:2: SyntaxWarning: invalid escape sequence '\\d'\n",
      "  dcbp = pd.read_csv(\"..\\data\\datacbp.csv\")\n"
     ]
    }
   ],
   "source": [
    "import pandas as pd\n",
    "dcbp = pd.read_csv(\"..\\data\\datacbp.csv\")  \n",
    "print(dcbp.head())\n"
   ]
  },
  {
   "cell_type": "code",
   "execution_count": 32,
   "metadata": {},
   "outputs": [
    {
     "name": "stdout",
     "output_type": "stream",
     "text": [
      "   fipstate   naics   emp    qp1      ap   est  year  post_china\n",
      "0         1  113///  8207  44757  195720  1082  1998           0\n",
      "1         1  114///    93    363    1532    30  1998           0\n",
      "2         1  115///  1614  10181   45519   194  1998           0\n",
      "3         1  211///   804   9477   38146    38  1998           0\n",
      "4         1  212///  7074  79136  318295   159  1998           0\n"
     ]
    }
   ],
   "source": [
    "dcbp[\"post_china\"]=(dcbp[\"year\"]>= 2001).astype(int)\n",
    "\n",
    "print(dcbp.head())"
   ]
  },
  {
   "cell_type": "markdown",
   "metadata": {},
   "source": [
    "**3. Construct 1 dummy variable called “manuf” where manuf=1 for all the observations that start with naics code “3” – which is manufacturing - and 0 otherwise.**"
   ]
  },
  {
   "cell_type": "code",
   "execution_count": 33,
   "metadata": {},
   "outputs": [
    {
     "name": "stdout",
     "output_type": "stream",
     "text": [
      "   fipstate   naics   emp    qp1      ap   est  year  post_china  manuf\n",
      "0         1  113///  8207  44757  195720  1082  1998           0      0\n",
      "1         1  114///    93    363    1532    30  1998           0      0\n",
      "2         1  115///  1614  10181   45519   194  1998           0      0\n",
      "3         1  211///   804   9477   38146    38  1998           0      0\n",
      "4         1  212///  7074  79136  318295   159  1998           0      0\n"
     ]
    }
   ],
   "source": [
    "dcbp[\"manuf\"]=dcbp[\"naics\"].str.startswith('3').astype(int)\n",
    "print(dcbp.head())"
   ]
  },
  {
   "cell_type": "markdown",
   "metadata": {},
   "source": [
    "**4. Construct the values necessary to generate the difference-in-difference estimate (i.e. 2x2 Matrix) of the effect of China entering the WTO on employment (emp).**"
   ]
  },
  {
   "cell_type": "code",
   "execution_count": 34,
   "metadata": {},
   "outputs": [
    {
     "name": "stdout",
     "output_type": "stream",
     "text": [
      "29539.34174653887\n",
      "30579.647310513446\n",
      "15619.126095118898\n",
      "13366.851283656857\n",
      "The result is -3292.580375436617\n"
     ]
    }
   ],
   "source": [
    "# Mean of controls before treatment\n",
    "mean_bef_non_manuf = dcbp.loc[(dcbp['manuf'] == 0) & (dcbp['post_china'] == 0), 'emp'].mean()\n",
    "print(mean_bef_non_manuf)\n",
    "\n",
    "# Mean of controls after treatment\n",
    "mean_aft_non_manuf = dcbp.loc[(dcbp['manuf'] == 0) & (dcbp['post_china'] == 1), 'emp'].mean()\n",
    "print(mean_aft_non_manuf)\n",
    "\n",
    "# Mean of treat before treatment\n",
    "mean_bef_manuf = dcbp.loc[(dcbp['manuf'] == 1) & (dcbp['post_china'] == 0), 'emp'].mean()\n",
    "print(mean_bef_manuf)\n",
    "\n",
    "# Mean of treat after treatment\n",
    "mean_aft_manuf = dcbp.loc[(dcbp['manuf'] == 1) & (dcbp['post_china'] == 1), 'emp'].mean()\n",
    "print(mean_aft_manuf)\n",
    "\n",
    "# Finally\n",
    "result = (mean_bef_non_manuf - mean_aft_non_manuf) - (mean_bef_manuf - mean_aft_manuf)\n",
    "print(\"The result is\", result)\n"
   ]
  },
  {
   "cell_type": "markdown",
   "metadata": {},
   "source": [
    "**5. Estimate a diff-in-diff regression and make sure you get the same diff-in-diff estimate as in part 4.**"
   ]
  },
  {
   "cell_type": "code",
   "execution_count": 35,
   "metadata": {},
   "outputs": [
    {
     "name": "stdout",
     "output_type": "stream",
     "text": [
      "                            OLS Regression Results                            \n",
      "==============================================================================\n",
      "Dep. Variable:                    emp   R-squared:                       0.013\n",
      "Model:                            OLS   Adj. R-squared:                  0.013\n",
      "Method:                 Least Squares   F-statistic:                     176.0\n",
      "Date:               mar, 04 Feb. 2025   Prob (F-statistic):          2.44e-113\n",
      "Time:                        01:37:32   Log-Likelihood:            -4.7943e+05\n",
      "No. Observations:               38606   AIC:                         9.589e+05\n",
      "Df Residuals:                   38602   BIC:                         9.589e+05\n",
      "Df Model:                           3                                         \n",
      "Covariance Type:            nonrobust                                         \n",
      "====================================================================================\n",
      "                       coef    std err          t      P>|t|      [0.025      0.975]\n",
      "------------------------------------------------------------------------------------\n",
      "Intercept         2.954e+04    617.604     47.829      0.000    2.83e+04    3.07e+04\n",
      "post_china        1040.3056    750.916      1.385      0.166    -431.509    2512.120\n",
      "manuf            -1.392e+04   1225.605    -11.358      0.000   -1.63e+04   -1.15e+04\n",
      "post_china:manuf -3292.5804   1498.411     -2.197      0.028   -6229.504    -355.657\n",
      "==============================================================================\n",
      "Omnibus:                    52453.517   Durbin-Watson:                   1.278\n",
      "Prob(Omnibus):                  0.000   Jarque-Bera (JB):         16786597.626\n",
      "Skew:                           7.783   Prob(JB):                         0.00\n",
      "Kurtosis:                     103.962   Cond. No.                         8.08\n",
      "==============================================================================\n",
      "\n",
      "Notes:\n",
      "[1] Standard Errors assume that the covariance matrix of the errors is correctly specified.\n"
     ]
    }
   ],
   "source": [
    "\n",
    "#!pip install statsmodels\n",
    "import statsmodels.formula.api as smf\n",
    "\n",
    "# Especificamos el modelo de Diferencias en Diferencias (DiD)\n",
    "model = smf.ols(\"emp ~ post_china + manuf + post_china:manuf\", data=dcbp).fit()\n",
    "\n",
    "# Mostramos los resultados de la regresión\n",
    "print(model.summary())\n"
   ]
  },
  {
   "cell_type": "markdown",
   "metadata": {},
   "source": [
    "**6. Estimate a diff-in-diff regression for the effect of China entering the WTO in 2001 on the number of establishment (est), an average pay (qp1/emp). Interpret the results.**\n"
   ]
  },
  {
   "cell_type": "code",
   "execution_count": 36,
   "metadata": {},
   "outputs": [
    {
     "name": "stdout",
     "output_type": "stream",
     "text": [
      "                            OLS Regression Results                            \n",
      "==============================================================================\n",
      "Dep. Variable:                    est   R-squared:                       0.032\n",
      "Model:                            OLS   Adj. R-squared:                  0.032\n",
      "Method:                 Least Squares   F-statistic:                     425.9\n",
      "Date:               mar, 04 Feb. 2025   Prob (F-statistic):          3.20e-272\n",
      "Time:                        01:37:33   Log-Likelihood:            -3.7730e+05\n",
      "No. Observations:               38606   AIC:                         7.546e+05\n",
      "Df Residuals:                   38602   BIC:                         7.546e+05\n",
      "Df Model:                           3                                         \n",
      "Covariance Type:            nonrobust                                         \n",
      "====================================================================================\n",
      "                       coef    std err          t      P>|t|      [0.025      0.975]\n",
      "------------------------------------------------------------------------------------\n",
      "Intercept         2091.3099     43.836     47.708      0.000    2005.391    2177.229\n",
      "post_china          34.0692     53.298      0.639      0.523     -70.396     138.534\n",
      "manuf            -1753.0774     86.990    -20.153      0.000   -1923.580   -1582.575\n",
      "post_china:manuf   -52.5750    106.353     -0.494      0.621    -261.029     155.879\n",
      "==============================================================================\n",
      "Omnibus:                    54763.351   Durbin-Watson:                   1.664\n",
      "Prob(Omnibus):                  0.000   Jarque-Bera (JB):         22847322.407\n",
      "Skew:                           8.366   Prob(JB):                         0.00\n",
      "Kurtosis:                     120.998   Cond. No.                         8.08\n",
      "==============================================================================\n",
      "\n",
      "Notes:\n",
      "[1] Standard Errors assume that the covariance matrix of the errors is correctly specified.\n"
     ]
    }
   ],
   "source": [
    "# DID for number of establishment\n",
    "model = smf.ols(\"est ~ post_china + manuf + post_china:manuf\", data=dcbp).fit()\n",
    "\n",
    "# Mostramos los resultados de la regresión\n",
    "print(model.summary())"
   ]
  },
  {
   "cell_type": "markdown",
   "metadata": {},
   "source": []
  },
  {
   "cell_type": "code",
   "execution_count": 37,
   "metadata": {},
   "outputs": [
    {
     "name": "stdout",
     "output_type": "stream",
     "text": [
      "                            OLS Regression Results                            \n",
      "==============================================================================\n",
      "Dep. Variable:                    est   R-squared:                       0.032\n",
      "Model:                            OLS   Adj. R-squared:                  0.032\n",
      "Method:                 Least Squares   F-statistic:                     425.9\n",
      "Date:               mar, 04 Feb. 2025   Prob (F-statistic):          3.20e-272\n",
      "Time:                        01:37:33   Log-Likelihood:            -3.7730e+05\n",
      "No. Observations:               38606   AIC:                         7.546e+05\n",
      "Df Residuals:                   38602   BIC:                         7.546e+05\n",
      "Df Model:                           3                                         \n",
      "Covariance Type:            nonrobust                                         \n",
      "====================================================================================\n",
      "                       coef    std err          t      P>|t|      [0.025      0.975]\n",
      "------------------------------------------------------------------------------------\n",
      "Intercept         2091.3099     43.836     47.708      0.000    2005.391    2177.229\n",
      "post_china          34.0692     53.298      0.639      0.523     -70.396     138.534\n",
      "manuf            -1753.0774     86.990    -20.153      0.000   -1923.580   -1582.575\n",
      "post_china:manuf   -52.5750    106.353     -0.494      0.621    -261.029     155.879\n",
      "==============================================================================\n",
      "Omnibus:                    54763.351   Durbin-Watson:                   1.664\n",
      "Prob(Omnibus):                  0.000   Jarque-Bera (JB):         22847322.407\n",
      "Skew:                           8.366   Prob(JB):                         0.00\n",
      "Kurtosis:                     120.998   Cond. No.                         8.08\n",
      "==============================================================================\n",
      "\n",
      "Notes:\n",
      "[1] Standard Errors assume that the covariance matrix of the errors is correctly specified.\n"
     ]
    }
   ],
   "source": [
    "# DID for number of establishment\n",
    "model = smf.ols(\"est ~ post_china + manuf + post_china:manuf\", data=dcbp).fit()\n",
    "\n",
    "# Mostramos los resultados de la regresión\n",
    "print(model.summary())"
   ]
  },
  {
   "cell_type": "code",
   "execution_count": 38,
   "metadata": {},
   "outputs": [
    {
     "name": "stdout",
     "output_type": "stream",
     "text": [
      "                            OLS Regression Results                            \n",
      "==============================================================================\n",
      "Dep. Variable:            average_pay   R-squared:                       0.021\n",
      "Model:                            OLS   Adj. R-squared:                  0.021\n",
      "Method:                 Least Squares   F-statistic:                     241.7\n",
      "Date:               mar, 04 Feb. 2025   Prob (F-statistic):          3.76e-155\n",
      "Time:                        01:37:33   Log-Likelihood:            -1.0015e+05\n",
      "No. Observations:               33008   AIC:                         2.003e+05\n",
      "Df Residuals:                   33004   BIC:                         2.003e+05\n",
      "Df Model:                           3                                         \n",
      "Covariance Type:            nonrobust                                         \n",
      "====================================================================================\n",
      "                       coef    std err          t      P>|t|      [0.025      0.975]\n",
      "------------------------------------------------------------------------------------\n",
      "Intercept            7.1341      0.057    125.865      0.000       7.023       7.245\n",
      "post_china           1.4694      0.069     21.364      0.000       1.335       1.604\n",
      "manuf                0.9394      0.111      8.481      0.000       0.722       1.156\n",
      "post_china:manuf    -0.2150      0.135     -1.592      0.111      -0.480       0.050\n",
      "==============================================================================\n",
      "Omnibus:                    37077.832   Durbin-Watson:                   1.318\n",
      "Prob(Omnibus):                  0.000   Jarque-Bera (JB):          9525706.965\n",
      "Skew:                           5.439   Prob(JB):                         0.00\n",
      "Kurtosis:                      85.509   Cond. No.                         8.08\n",
      "==============================================================================\n",
      "\n",
      "Notes:\n",
      "[1] Standard Errors assume that the covariance matrix of the errors is correctly specified.\n"
     ]
    }
   ],
   "source": [
    "# We create \"average pay\"\n",
    "dcbp[\"average_pay\"]=dcbp[\"qp1\"]/dcbp[\"emp\"]\n",
    "\n",
    "# DID for average pay\n",
    "model = smf.ols(\"average_pay ~ post_china + manuf + post_china:manuf\", data=dcbp).fit()\n",
    "\n",
    "# Mostramos los resultados de la regresión\n",
    "print(model.summary())"
   ]
  },
  {
   "cell_type": "markdown",
   "metadata": {},
   "source": []
  },
  {
   "cell_type": "markdown",
   "metadata": {},
   "source": [
    "**7.Estimate same regression as in (5) but now take logs of the dependent variable (i,e, log(emp)). Interpret your results. Is it necessary to take logs?**"
   ]
  },
  {
   "cell_type": "code",
   "execution_count": 39,
   "metadata": {},
   "outputs": [
    {
     "name": "stdout",
     "output_type": "stream",
     "text": [
      "                            OLS Regression Results                            \n",
      "==============================================================================\n",
      "Dep. Variable:                log_emp   R-squared:                         nan\n",
      "Model:                            OLS   Adj. R-squared:                    nan\n",
      "Method:                 Least Squares   F-statistic:                       nan\n",
      "Date:               mar, 04 Feb. 2025   Prob (F-statistic):                nan\n",
      "Time:                        01:37:33   Log-Likelihood:                    nan\n",
      "No. Observations:               38606   AIC:                               nan\n",
      "Df Residuals:                   38602   BIC:                               nan\n",
      "Df Model:                           3                                         \n",
      "Covariance Type:            nonrobust                                         \n",
      "====================================================================================\n",
      "                       coef    std err          t      P>|t|      [0.025      0.975]\n",
      "------------------------------------------------------------------------------------\n",
      "Intercept               nan        nan        nan        nan         nan         nan\n",
      "post_china              nan        nan        nan        nan         nan         nan\n",
      "manuf                   nan        nan        nan        nan         nan         nan\n",
      "post_china:manuf        nan        nan        nan        nan         nan         nan\n",
      "==============================================================================\n",
      "Omnibus:                          nan   Durbin-Watson:                     nan\n",
      "Prob(Omnibus):                    nan   Jarque-Bera (JB):                  nan\n",
      "Skew:                             nan   Prob(JB):                          nan\n",
      "Kurtosis:                         nan   Cond. No.                         8.08\n",
      "==============================================================================\n",
      "\n",
      "Notes:\n",
      "[1] Standard Errors assume that the covariance matrix of the errors is correctly specified.\n"
     ]
    },
    {
     "name": "stderr",
     "output_type": "stream",
     "text": [
      "C:\\Users\\LENOVO\\AppData\\Local\\Packages\\PythonSoftwareFoundation.Python.3.12_qbz5n2kfra8p0\\LocalCache\\local-packages\\Python312\\site-packages\\pandas\\core\\arraylike.py:399: RuntimeWarning: divide by zero encountered in log\n",
      "  result = getattr(ufunc, method)(*inputs, **kwargs)\n",
      "C:\\Users\\LENOVO\\AppData\\Local\\Packages\\PythonSoftwareFoundation.Python.3.12_qbz5n2kfra8p0\\LocalCache\\local-packages\\Python312\\site-packages\\statsmodels\\regression\\linear_model.py:1733: RuntimeWarning: invalid value encountered in subtract\n",
      "  return np.sum(weights * (model.endog - mean)**2)\n"
     ]
    }
   ],
   "source": [
    "\n",
    "import numpy as np\n",
    "\n",
    "# Crear la columna con el logaritmo de 'emp'\n",
    "dcbp['log_emp'] = np.log(dcbp['emp'])\n",
    "\n",
    "\n",
    "# Especificamos el modelo de Diferencias en Diferencias (DiD)\n",
    "model = smf.ols(\"log_emp ~ post_china + manuf + post_china:manuf\", data=dcbp).fit()\n",
    "\n",
    "# Mostramos los resultados de la regresión\n",
    "print(model.summary())"
   ]
  },
  {
   "cell_type": "code",
   "execution_count": null,
   "metadata": {},
   "outputs": [],
   "source": []
  },
  {
   "cell_type": "markdown",
   "metadata": {},
   "source": [
    "**8.Generate one dummy per year. Construct the interaction between each year dummies and your treatment group (manuf). You should have 9 interaction terms**"
   ]
  },
  {
   "cell_type": "markdown",
   "metadata": {},
   "source": [
    "**9. Estimate an event study, i.e. run the following specification: log(emp) vs year dummies, manuf*year dummies (omit the interaction between manuf  * year 1998) and control for NAICS-3 digit dummies and state dummies. Interpret your results. Should you expect to see any effect for the interaction term manuf*year 1999 or manuf * year 2000? Did the China shock have a significant effect on employment? Was it a short-run or long-run effect?**"
   ]
  }
 ],
 "metadata": {
  "kernelspec": {
   "display_name": "Python 3",
   "language": "python",
   "name": "python3"
  },
  "language_info": {
   "codemirror_mode": {
    "name": "ipython",
    "version": 3
   },
   "file_extension": ".py",
   "mimetype": "text/x-python",
   "name": "python",
   "nbconvert_exporter": "python",
   "pygments_lexer": "ipython3",
   "version": "3.12.8"
  }
 },
 "nbformat": 4,
 "nbformat_minor": 2
}
